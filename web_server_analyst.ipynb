{
  "nbformat": 4,
  "nbformat_minor": 0,
  "metadata": {
    "colab": {
      "provenance": []
    },
    "kernelspec": {
      "name": "python3",
      "display_name": "Python 3"
    },
    "language_info": {
      "name": "python"
    }
  },
  "cells": [
    {
      "cell_type": "code",
      "execution_count": 2,
      "metadata": {
        "colab": {
          "base_uri": "https://localhost:8080/"
        },
        "id": "fy41PTtVoidT",
        "outputId": "4e30efc8-a349-43c4-a341-b5e12acee5e1"
      },
      "outputs": [
        {
          "output_type": "stream",
          "name": "stdout",
          "text": [
            "Collecting faker\n",
            "  Downloading Faker-30.1.0-py3-none-any.whl.metadata (15 kB)\n",
            "Requirement already satisfied: python-dateutil>=2.4 in /usr/local/lib/python3.10/dist-packages (from faker) (2.8.2)\n",
            "Requirement already satisfied: typing-extensions in /usr/local/lib/python3.10/dist-packages (from faker) (4.12.2)\n",
            "Requirement already satisfied: six>=1.5 in /usr/local/lib/python3.10/dist-packages (from python-dateutil>=2.4->faker) (1.16.0)\n",
            "Downloading Faker-30.1.0-py3-none-any.whl (1.8 MB)\n",
            "\u001b[2K   \u001b[90m━━━━━━━━━━━━━━━━━━━━━━━━━━━━━━━━━━━━━━━━\u001b[0m \u001b[32m1.8/1.8 MB\u001b[0m \u001b[31m24.3 MB/s\u001b[0m eta \u001b[36m0:00:00\u001b[0m\n",
            "\u001b[?25hInstalling collected packages: faker\n",
            "Successfully installed faker-30.1.0\n",
            "Сгенерировано 100000 записей и сохранено в web_server_logs.csv\n"
          ]
        }
      ],
      "source": [
        "!pip install faker\n",
        "import csv\n",
        "from faker import Faker\n",
        "import random\n",
        "\n",
        "fake = Faker()\n",
        "\n",
        "num_records = 100000\n",
        "\n",
        "http_methods = ['GET', 'POST', 'PUT', 'DELETE']\n",
        "response_codes = [200, 301, 404, 500]\n",
        "\n",
        "file_path = \"web_server_logs.csv\"\n",
        "\n",
        "with open(file_path, mode='w', newline='') as file:\n",
        "    writer = csv.writer(file)\n",
        "    writer.writerow(['ip', 'timestamp', 'method', 'url', 'response_code', 'response_size'])\n",
        "\n",
        "    for _ in range(num_records):\n",
        "        ip = fake.ipv4()\n",
        "        timestamp = fake.date_time_this_year().isoformat()\n",
        "        method = random.choice(http_methods)\n",
        "        url = fake.uri_path()\n",
        "        response_code = random.choice(response_codes)\n",
        "        response_size = random.randint(100, 10000)\n",
        "\n",
        "        writer.writerow([ip, timestamp, method, url, response_code, response_size])\n",
        "\n",
        "print(f\"Сгенерировано {num_records} записей и сохранено в {file_path}\")"
      ]
    },
    {
      "cell_type": "code",
      "source": [
        "!pip install pyspark\n",
        "from pyspark.sql import SparkSession\n",
        "from pyspark.sql.functions import col, count, sum\n",
        "\n",
        "spark = SparkSession.builder.appName(\"WebServerLogAnalysis\").getOrCreate()\n",
        "\n",
        "df = spark.read.csv(\"web_server_logs.csv\", header=True, inferSchema=True)\n",
        "\n",
        "# 1. Топ 10 самых активных IP\n",
        "top_ips = df.groupBy(\"ip\").count().orderBy(col(\"count\").desc()).limit(10)\n",
        "print(\"10 самых активных IP:\")\n",
        "top_ips.show()\n",
        "\n",
        "# 2. Количество запросов по HTTP-методам\n",
        "method_counts = df.groupBy(\"method\").count()\n",
        "print(\"\\nКоличество запросов по методам:\")\n",
        "method_counts.show()\n",
        "\n",
        "# 3. Количество запросов с кодом ответа 404\n",
        "error_404_count = df.filter(col(\"response_code\") == 404).count()\n",
        "print(\"\\nКоличество запросов с кодом ответа 404:\")\n",
        "print(error_404_count)\n",
        "\n",
        "# 4. Суммарный размер ответов по датам\n",
        "df = df.withColumn(\"date\", col(\"timestamp\").substr(1, 10))\n",
        "date_response_size = df.groupBy(\"date\").agg(sum(\"response_size\").alias(\"total_response_size\")).orderBy(\"date\")\n",
        "print(\"\\nСуммарный размер ответов по датам:\")\n",
        "date_response_size.show();\n",
        "\n",
        "spark.stop()\n"
      ],
      "metadata": {
        "colab": {
          "base_uri": "https://localhost:8080/"
        },
        "id": "hn8rM_1_JWUp",
        "outputId": "1e1d3a01-44a5-47d4-b04a-619a7957257e"
      },
      "execution_count": 3,
      "outputs": [
        {
          "output_type": "stream",
          "name": "stdout",
          "text": [
            "Collecting pyspark\n",
            "  Downloading pyspark-3.5.3.tar.gz (317.3 MB)\n",
            "\u001b[2K     \u001b[90m━━━━━━━━━━━━━━━━━━━━━━━━━━━━━━━━━━━━━━━━\u001b[0m \u001b[32m317.3/317.3 MB\u001b[0m \u001b[31m4.5 MB/s\u001b[0m eta \u001b[36m0:00:00\u001b[0m\n",
            "\u001b[?25h  Preparing metadata (setup.py) ... \u001b[?25l\u001b[?25hdone\n",
            "Requirement already satisfied: py4j==0.10.9.7 in /usr/local/lib/python3.10/dist-packages (from pyspark) (0.10.9.7)\n",
            "Building wheels for collected packages: pyspark\n",
            "  Building wheel for pyspark (setup.py) ... \u001b[?25l\u001b[?25hdone\n",
            "  Created wheel for pyspark: filename=pyspark-3.5.3-py2.py3-none-any.whl size=317840625 sha256=4ec0cbf8f416c8367326dcc32f0d0a01e90100fd5032cdd43fd7e4965ce2876a\n",
            "  Stored in directory: /root/.cache/pip/wheels/1b/3a/92/28b93e2fbfdbb07509ca4d6f50c5e407f48dce4ddbda69a4ab\n",
            "Successfully built pyspark\n",
            "Installing collected packages: pyspark\n",
            "Successfully installed pyspark-3.5.3\n",
            "10 самых активных IP:\n",
            "+--------------+-----+\n",
            "|            ip|count|\n",
            "+--------------+-----+\n",
            "| 191.88.238.17|    2|\n",
            "| 213.210.92.52|    1|\n",
            "|   75.253.52.7|    1|\n",
            "| 60.242.212.54|    1|\n",
            "|175.213.69.158|    1|\n",
            "| 125.163.45.50|    1|\n",
            "|145.23.202.127|    1|\n",
            "|    5.51.203.7|    1|\n",
            "| 207.19.77.162|    1|\n",
            "| 126.58.15.201|    1|\n",
            "+--------------+-----+\n",
            "\n",
            "\n",
            "Количество запросов по методам:\n",
            "+------+-----+\n",
            "|method|count|\n",
            "+------+-----+\n",
            "|  POST|24928|\n",
            "|DELETE|25316|\n",
            "|   PUT|24827|\n",
            "|   GET|24929|\n",
            "+------+-----+\n",
            "\n",
            "\n",
            "Количество запросов с кодом ответа 404:\n",
            "24756\n",
            "\n",
            "Суммарный размер ответов по датам:\n",
            "+----------+-------------------+\n",
            "|      date|total_response_size|\n",
            "+----------+-------------------+\n",
            "|2024-01-01|            1743091|\n",
            "|2024-01-02|            1919455|\n",
            "|2024-01-03|            1854540|\n",
            "|2024-01-04|            1874773|\n",
            "|2024-01-05|            1976165|\n",
            "|2024-01-06|            1805473|\n",
            "|2024-01-07|            1898175|\n",
            "|2024-01-08|            1938090|\n",
            "|2024-01-09|            1796769|\n",
            "|2024-01-10|            1917478|\n",
            "|2024-01-11|            1894256|\n",
            "|2024-01-12|            1729935|\n",
            "|2024-01-13|            1881377|\n",
            "|2024-01-14|            1741920|\n",
            "|2024-01-15|            1824987|\n",
            "|2024-01-16|            1992208|\n",
            "|2024-01-17|            1884388|\n",
            "|2024-01-18|            1708699|\n",
            "|2024-01-19|            1861595|\n",
            "|2024-01-20|            1736937|\n",
            "+----------+-------------------+\n",
            "only showing top 20 rows\n",
            "\n"
          ]
        }
      ]
    }
  ]
}
